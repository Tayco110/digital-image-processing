{
 "cells": [
  {
   "cell_type": "code",
   "execution_count": null,
   "metadata": {},
   "outputs": [],
   "source": [
    "\n",
    "import numpy as np"
   ]
  },
  {
   "cell_type": "code",
   "execution_count": null,
   "metadata": {},
   "outputs": [],
   "source": [
    "#Get the maximum value from given matrix\n",
    "\n",
    "array = np.matrix([[2,8,9,4],[9,4,9,4],[4,5,9,7],[2,9,4,3]])\n",
    "print(np.amin(array))"
   ]
  },
  {
   "cell_type": "code",
   "execution_count": null,
   "metadata": {},
   "outputs": [],
   "source": [
    "#Get the minimum value from given matrix\n",
    "\n",
    "array = np.matrix([[2,8,9,4],[9,4,9,4],[4,5,9,7],[2,9,4,3]])\n",
    "print((np.amin(array)))"
   ]
  },
  {
   "cell_type": "code",
   "execution_count": null,
   "metadata": {},
   "outputs": [],
   "source": [
    "#Find the number of rows and columns of a given matrix using NumPy\n",
    "\n",
    "array = np.matrix([[2,8,9,4],[9,4,9,4],[4,5,9,7],[2,9,4,3]])\n",
    "print('Numero de linhas:', array.shape[0])\n",
    "print('Numero de colunas:', array.shape[1])"
   ]
  },
  {
   "cell_type": "code",
   "execution_count": null,
   "metadata": {},
   "outputs": [],
   "source": [
    "#Select the elements from a given matrix\n",
    "\n",
    "array = np.matrix([[2,8,9,4],[9,4,9,4],[4,5,9,7],[2,9,4,3]])\n",
    "print('Elemntro 1,0:', array[1,0])"
   ]
  },
  {
   "cell_type": "code",
   "execution_count": null,
   "metadata": {},
   "outputs": [],
   "source": [
    "#Find the sum of values in a matrix\n",
    "\n",
    "array = np.matrix([[2,8,9,4],[9,4,9,4],[4,5,9,7],[2,9,4,3]])\n",
    "print(np.sum(array))"
   ]
  },
  {
   "cell_type": "code",
   "execution_count": null,
   "metadata": {},
   "outputs": [],
   "source": [
    "#Calculate the sum of the diagonal elements of a NumPy array\n",
    "\n",
    "array = np.matrix([[2,8,9,4],[9,4,9,4],[4,5,9,7],[2,9,4,3]])\n",
    "print(np.trace(array))"
   ]
  },
  {
   "cell_type": "code",
   "execution_count": null,
   "metadata": {},
   "outputs": [],
   "source": [
    "#Adding and Subtracting Matrices in Python\n",
    "\n",
    "array1 = np.matrix([[2,8,9,4],[9,4,9,4],[4,5,9,7],[2,9,4,3]])\n",
    "array2 = np.matrix([[2,8,9,4],[9,4,9,4],[4,5,9,7],[2,9,4,3]])\n",
    "\n",
    "print(array1 + array2,'\\n')\n",
    "print(array1 - array2)"
   ]
  },
  {
   "cell_type": "code",
   "execution_count": null,
   "metadata": {},
   "outputs": [],
   "source": [
    "#Ways to add row/columns in numpy array\n",
    "\n",
    "array = np.matrix([[2,8,9,4],[9,4,9,4],[4,5,9,7],[2,9,4,3]])\n",
    "row = np.array([[1,2,3,4]])\n",
    "\n",
    "print(np.vstack((array, row)))\n",
    "print()\n",
    "print(np.hstack((array, row.T)))"
   ]
  },
  {
   "cell_type": "code",
   "execution_count": null,
   "metadata": {},
   "outputs": [],
   "source": [
    "#Matrix Multiplication in NumPy\n",
    "\n",
    "array1 = np.matrix([[2,8,9,4],[9,4,9,4],[4,5,9,7],[2,9,4,3]])\n",
    "array2 =  np.matrix([[1, 2, 3],[4, 5, 6],[7, 8, 9],[10, 11, 11]])\n",
    "print(np.dot(array1,array2))"
   ]
  },
  {
   "cell_type": "code",
   "execution_count": null,
   "metadata": {},
   "outputs": [],
   "source": [
    "#Get the eigen values of a matrix\n",
    "\n",
    "array = np.matrix([[2,8,9,4],[9,4,9,4],[4,5,9,7],[2,9,4,3]])\n",
    "print(np.linalg.eigvals(array))"
   ]
  },
  {
   "cell_type": "code",
   "execution_count": null,
   "metadata": {},
   "outputs": [],
   "source": [
    "#How to Calculate the determinant of a matrix using NumPy?\n",
    "\n",
    "array = np.matrix([[2,8,9,4],[9,4,9,4],[4,5,9,7],[2,9,4,3]])\n",
    "print(np.linalg.det(array))"
   ]
  },
  {
   "cell_type": "code",
   "execution_count": null,
   "metadata": {},
   "outputs": [],
   "source": [
    "#How to inverse a matrix using NumPy\n",
    "\n",
    "array = np.matrix([[2,8,9,4],[9,4,9,4],[4,5,9,7],[2,9,4,3]])\n",
    "print(np.linalg.inv(array))"
   ]
  },
  {
   "cell_type": "code",
   "execution_count": null,
   "metadata": {},
   "outputs": [],
   "source": [
    "#How to count the frequency of unique values in NumPy array?\n",
    "\n",
    "array = np.matrix([[2,8,9,4],[9,4,9,4],[4,5,9,7],[2,9,4,3]])\n",
    "print(np.bincount(np.ravel(array)))"
   ]
  },
  {
   "cell_type": "code",
   "execution_count": null,
   "metadata": {},
   "outputs": [],
   "source": [
    "#Multiply matrices of complex numbers using NumPy in Python\n",
    "\n",
    "array = np.matrix([[2,8,9,4],[9,4,9,4],[4,5,9,7],[2,9,4,3]])\n",
    "comp = array.astype(complex)\n",
    "print(np.dot(array,comp))"
   ]
  },
  {
   "cell_type": "code",
   "execution_count": null,
   "metadata": {},
   "outputs": [],
   "source": [
    "#Compute the outer product of two given vectors using NumPy in Python\n",
    "\n",
    "array1 = np.array([1,2,3])\n",
    "array2 = np.array([4,4,6])\n",
    "print(np.outer(array1,array2))"
   ]
  },
  {
   "cell_type": "code",
   "execution_count": null,
   "metadata": {},
   "outputs": [],
   "source": [
    "#Calculate inner, outer, and cross products of matrices and vectors using NumPy\n",
    "\n",
    "matrix1 = np.matrix([[2,8,9],[9,4,9],[4,5,9],[2,9,4]])\n",
    "matrix2 = np.matrix([[1,2,3],[5,6,7],[9,10,11],[13,14,15]])\n",
    "\n",
    "array1 = np.array([[1,2,3],[1,2,3]])\n",
    "array2 = np.array([[5,6,7],[1,2,3]])\n",
    "\n",
    "print('Inner product:')\n",
    "print('Array:\\n', np.inner(array1,array2))\n",
    "print('Matrix:\\n', np.inner(matrix1,matrix2))\n",
    "print()\n",
    "\n",
    "print('Outer product:')\n",
    "print('Array:\\n', np.outer(array1,array2))\n",
    "print('Matrix:\\n', np.outer(matrix1,matrix2))\n",
    "print()\n",
    "\n",
    "print('Cross product:')\n",
    "print('Array:\\n', np.cross(array1, array2))\n",
    "print('Matrix:\\n', np.cross(matrix1,matrix2))\n",
    "print()"
   ]
  },
  {
   "cell_type": "code",
   "execution_count": null,
   "metadata": {},
   "outputs": [],
   "source": [
    "#Compute the covariance matrix of two given NumPy arrays\n",
    "\n",
    "array1 = np.array([[1,2,3],[1,2,3]])\n",
    "array2 = np.array([[5,6,7],[1,2,3]])\n",
    "print(np.cov(array1,array2))"
   ]
  },
  {
   "cell_type": "code",
   "execution_count": null,
   "metadata": {},
   "outputs": [],
   "source": [
    "#Convert covariance matrix to correlation matrix using Python\n",
    "\n",
    "array1 = np.array([[1,2,],[3,4]])\n",
    "array2 = np.array([[5,6],[7,8]])\n",
    "print(np.corrcoef(np.cov(array1,array2)))"
   ]
  },
  {
   "cell_type": "code",
   "execution_count": null,
   "metadata": {},
   "outputs": [],
   "source": [
    "#Compute the Kronecker product of two mulitdimension NumPy arrays\n",
    "\n",
    "array1 = np.array([[1,2,],[3,4]])\n",
    "array2 = np.array([[5,6],[7,8]])\n",
    "print(np.kron(array1,array2))"
   ]
  },
  {
   "cell_type": "code",
   "execution_count": null,
   "metadata": {},
   "outputs": [],
   "source": [
    "#Convert the matrix into a list\n",
    "\n",
    "array = np.array([1,2,3,4,5,6])\n",
    "print(array.tolist())"
   ]
  }
 ],
 "metadata": {
  "kernelspec": {
   "display_name": "Python 3.10.4 64-bit",
   "language": "python",
   "name": "python3"
  },
  "language_info": {
   "name": "python",
   "version": "3.10.4"
  },
  "orig_nbformat": 4,
  "vscode": {
   "interpreter": {
    "hash": "5a7450cd130c3c23b271674dc90cf90c327daecf044a38130d7138f5cdac1d07"
   }
  }
 },
 "nbformat": 4,
 "nbformat_minor": 2
}
