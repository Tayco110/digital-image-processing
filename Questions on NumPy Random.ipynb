{
 "cells": [
  {
   "cell_type": "code",
   "execution_count": 22,
   "metadata": {},
   "outputs": [],
   "source": [
    "import numpy as np\n",
    "import random"
   ]
  },
  {
   "cell_type": "code",
   "execution_count": 4,
   "metadata": {},
   "outputs": [
    {
     "name": "stdout",
     "output_type": "stream",
     "text": [
      "[[0.41848849 0.08663258 0.03241993 0.43064434 0.42472505]]\n"
     ]
    }
   ],
   "source": [
    "#Create a Numpy array with random values\n",
    "\n",
    "array = np.random.rand(1,5)\n",
    "print(array)"
   ]
  },
  {
   "cell_type": "code",
   "execution_count": 12,
   "metadata": {},
   "outputs": [
    {
     "name": "stdout",
     "output_type": "stream",
     "text": [
      "2\n"
     ]
    }
   ],
   "source": [
    "#How to choose elements from the list with different probability using NumPy?\n",
    "\n",
    "numbers = [1,2,3,4,5,6,7,8,9]\n",
    "choice = np.random.choice(numbers)\n",
    "print(choice)"
   ]
  },
  {
   "cell_type": "code",
   "execution_count": 23,
   "metadata": {},
   "outputs": [
    {
     "name": "stdout",
     "output_type": "stream",
     "text": [
      "[3, 5, 7]\n"
     ]
    }
   ],
   "source": [
    "#How to get weighted random choice in Python\n",
    "\n",
    "numbers = [1,2,3,4,5,6,7,8,9]\n",
    "randomlist = random.choices(numbers,(1, 1, 5, 4, 5, 5, 8, 2, 1),k = 3)\n",
    "print(randomlist)"
   ]
  },
  {
   "cell_type": "code",
   "execution_count": 25,
   "metadata": {},
   "outputs": [
    {
     "name": "stdout",
     "output_type": "stream",
     "text": [
      "[0.08544412 0.61132535 0.18560656 0.98995734 0.6185507 ]\n"
     ]
    }
   ],
   "source": [
    "#Generate Random Numbers From The Uniform Distribution using NumPy\n",
    "\n",
    "print(np.random.uniform(size = 5))"
   ]
  },
  {
   "cell_type": "code",
   "execution_count": 38,
   "metadata": {},
   "outputs": [
    {
     "name": "stdout",
     "output_type": "stream",
     "text": [
      "[1 3 6 1 2 5 1 6 1 2]\n"
     ]
    }
   ],
   "source": [
    "#Get Random Elements form geometric distribution\n",
    "\n",
    "print(np.random.geometric(0.5, 10))"
   ]
  },
  {
   "cell_type": "code",
   "execution_count": 44,
   "metadata": {},
   "outputs": [
    {
     "name": "stdout",
     "output_type": "stream",
     "text": [
      "[ 0.73070603  0.82295882 -2.67638852  5.39898757 -7.18866151]\n"
     ]
    }
   ],
   "source": [
    "#Get Random elements from Laplace distribution\n",
    "\n",
    "print(np.random.laplace(0.5,10,5))"
   ]
  },
  {
   "cell_type": "code",
   "execution_count": 46,
   "metadata": {},
   "outputs": [
    {
     "name": "stdout",
     "output_type": "stream",
     "text": [
      "[[0.29571212 0.25167217 0.39968833]\n",
      " [0.74378024 0.11909516 0.62341654]\n",
      " [0.01596375 0.70034551 0.65196361]]\n"
     ]
    }
   ],
   "source": [
    "#Return a Matrix of random values from a uniform distribution\n",
    "\n",
    "matrix = np.matrix(np.random.uniform(size=(3,3)))\n",
    "print(matrix)"
   ]
  },
  {
   "cell_type": "code",
   "execution_count": 47,
   "metadata": {},
   "outputs": [
    {
     "name": "stdout",
     "output_type": "stream",
     "text": [
      "[[ 0.45101183 -0.84029206  0.53412666]\n",
      " [-0.34387506  0.10893829 -1.74032848]\n",
      " [ 0.12934718 -0.51592892  0.16789844]]\n"
     ]
    }
   ],
   "source": [
    "#Return a Matrix of random values from a Gaussian distribution\n",
    "\n",
    "matrix = np.random.normal(size=(3,3))\n",
    "print(matrix)"
   ]
  }
 ],
 "metadata": {
  "kernelspec": {
   "display_name": "Python 3.9.12 ('base')",
   "language": "python",
   "name": "python3"
  },
  "language_info": {
   "codemirror_mode": {
    "name": "ipython",
    "version": 3
   },
   "file_extension": ".py",
   "mimetype": "text/x-python",
   "name": "python",
   "nbconvert_exporter": "python",
   "pygments_lexer": "ipython3",
   "version": "3.9.12"
  },
  "orig_nbformat": 4,
  "vscode": {
   "interpreter": {
    "hash": "3867dd0c25ae4009a5cdda78bdc01493f6e56033bc714ba4cc749160456480dc"
   }
  }
 },
 "nbformat": 4,
 "nbformat_minor": 2
}
