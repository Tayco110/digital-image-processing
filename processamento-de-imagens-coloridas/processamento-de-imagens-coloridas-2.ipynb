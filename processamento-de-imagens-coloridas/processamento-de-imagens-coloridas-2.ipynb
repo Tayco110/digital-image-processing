{
 "cells": [
  {
   "cell_type": "code",
   "execution_count": null,
   "metadata": {},
   "outputs": [],
   "source": []
  }
 ],
 "metadata": {
  "kernelspec": {
   "display_name": "Python 3.10.4 64-bit",
   "language": "python",
   "name": "python3"
  },
  "language_info": {
   "name": "python",
   "version": "3.10.4"
  },
  "orig_nbformat": 4,
  "vscode": {
   "interpreter": {
    "hash": "5a7450cd130c3c23b271674dc90cf90c327daecf044a38130d7138f5cdac1d07"
   }
  }
 },
 "nbformat": 4,
 "nbformat_minor": 2
}
